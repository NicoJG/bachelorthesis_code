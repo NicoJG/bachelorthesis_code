{
 "cells": [
  {
   "cell_type": "code",
   "execution_count": null,
   "metadata": {},
   "outputs": [],
   "source": [
    "# Imports\n",
    "import sys\n",
    "from pathlib import Path\n",
    "import pandas as pd\n",
    "import numpy as np\n",
    "import matplotlib.pyplot as plt\n",
    "from tqdm import tqdm\n",
    "\n",
    "import uproot\n",
    "import particle\n",
    "\n",
    "# Imports from this project\n",
    "sys.path.insert(0, \"..\")\n",
    "from utils import paths\n",
    "from utils.input_output import load_data_from_root, load_preprocessed_data, load_feature_properties\n",
    "from utils.histograms import find_good_binning, get_hist, calc_pull\n",
    "from utils.merge_pdfs import merge_pdfs\n",
    "\n",
    "from hist_features_by_label import hist_feature_by_label\n"
   ]
  },
  {
   "cell_type": "markdown",
   "metadata": {},
   "source": [
    "# Check if the SS classified data is correct"
   ]
  },
  {
   "cell_type": "code",
   "execution_count": null,
   "metadata": {},
   "outputs": [],
   "source": [
    "df = load_preprocessed_data(N_entries_max=1000000000, input_file=paths.ss_classified_data_file)"
   ]
  },
  {
   "cell_type": "code",
   "execution_count": null,
   "metadata": {},
   "outputs": [],
   "source": [
    "df"
   ]
  },
  {
   "cell_type": "code",
   "execution_count": null,
   "metadata": {},
   "outputs": [],
   "source": [
    "df.columns"
   ]
  },
  {
   "cell_type": "code",
   "execution_count": null,
   "metadata": {},
   "outputs": [],
   "source": [
    "df[[\"Tr_is_SS\",\"Tr_ProbSS\"]].head(15)"
   ]
  },
  {
   "cell_type": "code",
   "execution_count": null,
   "metadata": {},
   "outputs": [],
   "source": [
    "df[[\"Tr_is_SS\",\"Tr_ProbSS\"]].sort_values(by=\"Tr_ProbSS\")"
   ]
  },
  {
   "cell_type": "code",
   "execution_count": null,
   "metadata": {},
   "outputs": [],
   "source": []
  },
  {
   "cell_type": "markdown",
   "metadata": {},
   "source": [
    "# Check for Bd Bs separation based on the feature importance"
   ]
  },
  {
   "cell_type": "code",
   "execution_count": null,
   "metadata": {},
   "outputs": [],
   "source": [
    "df_data = load_preprocessed_data()"
   ]
  },
  {
   "cell_type": "code",
   "execution_count": null,
   "metadata": {},
   "outputs": [],
   "source": [
    "feature_props = load_feature_properties()"
   ]
  },
  {
   "cell_type": "code",
   "execution_count": null,
   "metadata": {},
   "outputs": [],
   "source": [
    "fkey = \"Tr_T_x\"\n",
    "fprops = feature_props[fkey]\n",
    "\n",
    "lkey = \"B_is_strange\"\n",
    "lprops = feature_props[lkey]\n",
    "\n",
    "n_bins = 200\n",
    "lower_quantile = 0.01\n",
    "higher_quantile = 0.99"
   ]
  },
  {
   "cell_type": "code",
   "execution_count": null,
   "metadata": {},
   "outputs": [],
   "source": [
    "fig = hist_feature_by_label(df_data, fkey, fprops, lkey, lprops, higher_quantile=higher_quantile, lower_quantile=lower_quantile, add_cut=True, cut_query=\"Tr_is_SS==1\", cut_label=\"is SS\")\n",
    "\n",
    "plt.show()"
   ]
  },
  {
   "cell_type": "code",
   "execution_count": null,
   "metadata": {},
   "outputs": [],
   "source": [
    "\n",
    "fkey = \"Tr_T_x\"\n",
    "fprops = feature_props[fkey]\n",
    "\n",
    "lkey = \"B_is_strange\"\n",
    "lprops = feature_props[lkey]\n",
    "\n",
    "n_bins = 200\n",
    "lower_quantile = 0.01\n",
    "higher_quantile = 0.99\n",
    "\n",
    "fprops[f\"quantile_{lower_quantile}\"] = 0.0001\n",
    "fprops[f\"quantile_{higher_quantile}\"] = 200\n",
    "\n",
    "fig = hist_feature_by_label(df_data, fkey, fprops, lkey, lprops, higher_quantile=higher_quantile, lower_quantile=lower_quantile, add_cut=True, cut_query=\"Tr_is_SS==1\", cut_label=\"is SS\")\n",
    "\n",
    "plt.show()\n",
    "\n",
    "fig = hist_feature_by_label(df_data.eval(\"Tr_T_x=Tr_T_x*-1\"), fkey, fprops, lkey, lprops, higher_quantile=higher_quantile, lower_quantile=lower_quantile, add_cut=True, cut_query=\"Tr_is_SS==1\", cut_label=\"is SS\")\n",
    "\n",
    "plt.show()"
   ]
  },
  {
   "cell_type": "code",
   "execution_count": null,
   "metadata": {},
   "outputs": [],
   "source": []
  }
 ],
 "metadata": {
  "interpreter": {
   "hash": "20b05ee88e26e7f23d90b869a85a4fb598ebc8861a40413c4d0961bc2f50b067"
  },
  "kernelspec": {
   "display_name": "Python 3.9.7 ('root_forge')",
   "language": "python",
   "name": "python3"
  },
  "language_info": {
   "codemirror_mode": {
    "name": "ipython",
    "version": 3
   },
   "file_extension": ".py",
   "mimetype": "text/x-python",
   "name": "python",
   "nbconvert_exporter": "python",
   "pygments_lexer": "ipython3",
   "version": "3.9.7"
  }
 },
 "nbformat": 4,
 "nbformat_minor": 2
}
