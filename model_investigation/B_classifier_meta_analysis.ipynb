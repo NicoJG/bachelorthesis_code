{
 "cells": [
  {
   "cell_type": "code",
   "execution_count": 1,
   "metadata": {},
   "outputs": [],
   "source": [
    "# %%\n",
    "# Imports\n",
    "import sys\n",
    "from pathlib import Path\n",
    "import pandas as pd\n",
    "import numpy as np\n",
    "import matplotlib as mpl\n",
    "import matplotlib.pyplot as plt\n",
    "from tqdm import tqdm\n",
    "import json\n",
    "import shutil\n",
    "import torch\n",
    "from sklearn import metrics as skmetrics\n",
    "from argparse import ArgumentParser\n",
    "\n",
    "# Imports from this project\n",
    "sys.path.insert(0, \"..\")\n",
    "from utils import paths\n",
    "from utils.input_output import load_feature_keys, load_feature_properties, load_preprocessed_data\n",
    "from utils.histograms import find_good_binning, get_hist, calc_pull\n",
    "from utils.merge_pdfs import merge_pdfs\n",
    "from model_B_classifier import DeepSetModel"
   ]
  },
  {
   "cell_type": "markdown",
   "metadata": {},
   "source": [
    "# Evaluation Results from different models"
   ]
  },
  {
   "cell_type": "code",
   "execution_count": 6,
   "metadata": {},
   "outputs": [
    {
     "data": {
      "text/plain": [
       "['B_classifier_all',\n",
       " 'B_classifier_without_Tr_T_x',\n",
       " 'B_classifier_without_Tr_ProbSS',\n",
       " 'B_classifier_without_Tr_T_ACHI2DOCA',\n",
       " 'B_classifier_without_Tr_T_ADOCA',\n",
       " 'B_classifier_without_Tr_T_Charge']"
      ]
     },
     "execution_count": 6,
     "metadata": {},
     "output_type": "execute_result"
    }
   ],
   "source": [
    "with open(\"../features_B_classifier.json\", \"r\") as file:\n",
    "    feature_lists = json.load(file)\n",
    "    \n",
    "trained_model_names = [n.replace(\"features_\",\"\") for n in feature_lists.keys() if (paths.models_dir/n.replace(\"features_\",\"\")/paths.B_classifier_eval_plots_file.name).is_file()]\n",
    "trained_model_names"
   ]
  },
  {
   "cell_type": "code",
   "execution_count": 15,
   "metadata": {},
   "outputs": [
    {
     "name": "stdout",
     "output_type": "stream",
     "text": [
      "                                     roc_auc_test  roc_auc_train  \\\n",
      "B_classifier_without_Tr_ProbSS             $0.931         $0.953   \n",
      "B_classifier_all                           $0.934         $0.954   \n",
      "B_classifier_without_Tr_T_x                $0.926         $0.946   \n",
      "B_classifier_without_Tr_T_ADOCA            $0.913         $0.934   \n",
      "B_classifier_without_Tr_T_ACHI2DOCA        $0.904         $0.930   \n",
      "B_classifier_without_Tr_T_Charge           $0.891         $0.917   \n",
      "\n",
      "                                     accuracy_test  accuracy_train  \\\n",
      "B_classifier_without_Tr_ProbSS              $0.857          $0.882   \n",
      "B_classifier_all                            $0.854          $0.881   \n",
      "B_classifier_without_Tr_T_x                 $0.846          $0.870   \n",
      "B_classifier_without_Tr_T_ADOCA             $0.831          $0.857   \n",
      "B_classifier_without_Tr_T_ACHI2DOCA         $0.829          $0.856   \n",
      "B_classifier_without_Tr_T_Charge            $0.796          $0.820   \n",
      "\n",
      "                                     efficiency_Bd_test  efficiency_Bs_test  \n",
      "B_classifier_without_Tr_ProbSS                   $0.796              $0.915  \n",
      "B_classifier_all                                 $0.844              $0.864  \n",
      "B_classifier_without_Tr_T_x                      $0.777              $0.912  \n",
      "B_classifier_without_Tr_T_ADOCA                  $0.803              $0.858  \n",
      "B_classifier_without_Tr_T_ACHI2DOCA              $0.748              $0.905  \n",
      "B_classifier_without_Tr_T_Charge                 $0.686              $0.900  \n"
     ]
    }
   ],
   "source": [
    "df_results = pd.DataFrame()\n",
    "\n",
    "for model_name in trained_model_names:\n",
    "    paths.update_B_classifier_name(model_name)\n",
    "    with open(paths.B_classifier_dir/\"eval_results.json\", \"r\") as file:\n",
    "        eval_results = json.load(file)\n",
    "        \n",
    "    for metric in eval_results.keys():\n",
    "        if metric != \"confusion_matrix_test\":\n",
    "            df_results.loc[model_name,metric] = eval_results[metric]\n",
    "            \n",
    "    if \"confusion_matrix_test\" in eval_results.keys():\n",
    "        df_results.loc[model_name,\"efficiency_Bd_test\"] = eval_results[\"confusion_matrix_test\"][0][0]\n",
    "        df_results.loc[model_name,\"efficiency_Bs_test\"] = eval_results[\"confusion_matrix_test\"][1][1]\n",
    "        \n",
    "with pd.option_context(\"display.float_format\", '${:,.3f}'.format):\n",
    "    print(df_results.sort_values(by=\"accuracy_test\", ascending=False))"
   ]
  },
  {
   "cell_type": "markdown",
   "metadata": {},
   "source": [
    "# Generare Feature Lists"
   ]
  },
  {
   "cell_type": "code",
   "execution_count": 19,
   "metadata": {},
   "outputs": [],
   "source": [
    "with open(\"../features_B_classifier.json\", \"r\") as file:\n",
    "    feature_lists = json.load(file)\n",
    "    \n",
    "assert \"features_B_classifier_baseline\" in feature_lists.keys()\n",
    "assert \"features_B_classifier_all\" in feature_lists.keys()\n",
    "\n",
    "baseline_features = feature_lists[\"features_B_classifier_baseline\"]\n",
    "all_features = feature_lists[\"features_B_classifier_all\"]"
   ]
  },
  {
   "cell_type": "code",
   "execution_count": 17,
   "metadata": {},
   "outputs": [],
   "source": [
    "# add lists with one feature added, each\n",
    "for feature in set(all_features) - set(baseline_features):\n",
    "    feature_lists[f\"features_B_classifier_baseline_with_{feature}\"] = baseline_features + [feature]"
   ]
  },
  {
   "cell_type": "code",
   "execution_count": 18,
   "metadata": {},
   "outputs": [],
   "source": [
    "with open(\"../features_B_classifier.json\", \"w\") as file:\n",
    "    json.dump(feature_lists, file, indent=2)"
   ]
  },
  {
   "cell_type": "code",
   "execution_count": 20,
   "metadata": {},
   "outputs": [
    {
     "data": {
      "text/plain": [
       "dict_keys(['features_B_classifier_baseline', 'features_B_classifier_baseline_with_Tr_T_Best_PAIR_M_fromiso', 'features_B_classifier_baseline_with_Tr_T_Ntr_incone', 'features_B_classifier_baseline_with_Tr_T_Charge', 'features_B_classifier_baseline_with_Tr_T_TRPCHI2', 'features_B_classifier_baseline_with_Tr_T_SumMinBDT_ult', 'features_B_classifier_baseline_with_Tr_T_MinBDT_sigtr', 'features_B_classifier_baseline_with_Tr_T_ACHI2DOCA', 'features_B_classifier_baseline_with_Tr_T_TRFITTCHI2', 'features_B_classifier_baseline_with_Tr_T_NbNonIsoTr_ult', 'features_B_classifier_baseline_with_Tr_T_SumBDT_sigtr', 'features_B_classifier_baseline_with_Tr_T_TRCHI2DOF', 'features_B_classifier_baseline_with_Tr_T_TrFITTCHI2NDOF', 'features_B_classifier_baseline_with_Tr_T_AALLSAMEBPV', 'features_B_classifier_baseline_with_Tr_T_ISMUON', 'features_B_classifier_baseline_with_Tr_T_ConIso_pt_ult', 'features_B_classifier_baseline_with_Tr_T_TRFITVELOCHI2NDOF', 'features_B_classifier_baseline_with_Tr_T_PIDmu', 'features_B_classifier_baseline_with_Tr_T_x', 'features_B_classifier_baseline_with_Tr_T_SumBDT_ult', 'features_B_classifier_baseline_with_Tr_T_Mother_VtxChi2', 'features_B_classifier_baseline_with_Tr_T_ADOCA', 'features_B_classifier_baseline_with_Tr_T_PIDp', 'features_B_classifier_baseline_with_Tr_T_NbNonIsoTr_MinBDT_ult', 'features_B_classifier_baseline_with_Tr_T_PIDK', 'features_B_classifier_baseline_with_Tr_T_yfirst', 'features_B_classifier_baseline_with_Tr_T_PIDe', 'features_B_classifier_baseline_with_Tr_T_MinBDT_ult', 'features_B_classifier_baseline_with_Tr_T_Phi', 'features_B_classifier_baseline_with_Tr_T_Sum_of_trackp', 'features_B_classifier_baseline_with_Tr_T_ConIso_p_ult', 'features_B_classifier_baseline_with_Tr_T_Sum_of_trackpt', 'features_B_classifier_baseline_with_Tr_T_TRGHOSTPROB', 'features_B_classifier_baseline_with_Tr_T_y', 'features_B_classifier_baseline_with_Tr_T_BPVIPCHI2', 'features_B_classifier_baseline_with_Tr_T_NbTrNonIso_sigtr', 'features_B_classifier_baseline_with_Tr_T_BPVIP', 'features_B_classifier_baseline_with_Tr_T_xfirst', 'features_B_classifier_all', 'features_B_classifier_without_Tr_T_x', 'features_B_classifier_without_Tr_ProbSS', 'features_B_classifier_without_Tr_T_ACHI2DOCA', 'features_B_classifier_without_Tr_T_ADOCA', 'features_B_classifier_without_Tr_T_Charge', 'features_B_classifier_without_Tr_T_SumBDT_sigtr', 'features_B_classifier_without_Tr_T_SumBDT_ult', 'features_B_classifier_without_Tr_diff_z', 'features_B_classifier_without_Tr_p_proj', 'features_B_classifier_without_Tr_diff_pt', 'features_B_classifier_without_Tr_diff_p', 'features_B_classifier_without_Tr_cos_diff_phi', 'features_B_classifier_without_Tr_diff_eta', 'features_B_classifier_without_Tr_T_AALLSAMEBPV', 'features_B_classifier_without_Tr_T_BPVIP', 'features_B_classifier_without_Tr_T_BPVIPCHI2', 'features_B_classifier_without_Tr_T_Best_PAIR_M_fromiso', 'features_B_classifier_without_Tr_T_ConIso_p_ult', 'features_B_classifier_without_Tr_T_ConIso_pt_ult', 'features_B_classifier_without_Tr_T_IPCHI2_trMother', 'features_B_classifier_without_Tr_T_IP_trMother', 'features_B_classifier_without_Tr_T_IP_trPUS', 'features_B_classifier_without_Tr_T_ISMUON', 'features_B_classifier_without_Tr_T_MinBDT_sigtr', 'features_B_classifier_without_Tr_T_MinBDT_ult', 'features_B_classifier_without_Tr_T_MinIP', 'features_B_classifier_without_Tr_T_MinIPChi2', 'features_B_classifier_without_Tr_T_Mother_VtxChi2', 'features_B_classifier_without_Tr_T_NbNonIsoTr_MinBDT_ult', 'features_B_classifier_without_Tr_T_NbNonIsoTr_ult', 'features_B_classifier_without_Tr_T_NbTrNonIso_sigtr', 'features_B_classifier_without_Tr_T_Ntr_incone', 'features_B_classifier_without_Tr_T_PIDK', 'features_B_classifier_without_Tr_T_PIDe', 'features_B_classifier_without_Tr_T_PIDmu', 'features_B_classifier_without_Tr_T_PIDp', 'features_B_classifier_without_Tr_T_PROBNNe', 'features_B_classifier_without_Tr_T_PROBNNghost', 'features_B_classifier_without_Tr_T_PROBNNk', 'features_B_classifier_without_Tr_T_PROBNNmu', 'features_B_classifier_without_Tr_T_PROBNNp', 'features_B_classifier_without_Tr_T_PROBNNpi', 'features_B_classifier_without_Tr_T_P', 'features_B_classifier_without_Tr_T_PT', 'features_B_classifier_without_Tr_T_Phi', 'features_B_classifier_without_Tr_T_SumMinBDT_ult', 'features_B_classifier_without_Tr_T_Sum_of_trackp', 'features_B_classifier_without_Tr_T_Sum_of_trackpt', 'features_B_classifier_without_Tr_T_TRCHI2DOF', 'features_B_classifier_without_Tr_T_TRFITTCHI2', 'features_B_classifier_without_Tr_T_TrFITTCHI2NDOF', 'features_B_classifier_without_Tr_T_TRFITVELOCHI2NDOF', 'features_B_classifier_without_Tr_T_TRGHOSTPROB', 'features_B_classifier_without_Tr_T_TRPCHI2', 'features_B_classifier_without_Tr_T_VeloCharge', 'features_B_classifier_without_Tr_T_xfirst', 'features_B_classifier_without_Tr_T_y', 'features_B_classifier_without_Tr_T_yfirst'])"
      ]
     },
     "execution_count": 20,
     "metadata": {},
     "output_type": "execute_result"
    }
   ],
   "source": [
    "feature_lists.keys()"
   ]
  },
  {
   "cell_type": "markdown",
   "metadata": {},
   "source": [
    "# Threads"
   ]
  },
  {
   "cell_type": "code",
   "execution_count": 1,
   "metadata": {},
   "outputs": [
    {
     "data": {
      "text/plain": [
       "{50: '54:18', 40: '49:18', 20: '1:04:44', 10: '1:16:31', 5: '1:36:53'}"
      ]
     },
     "execution_count": 1,
     "metadata": {},
     "output_type": "execute_result"
    }
   ],
   "source": [
    "train_time_by_threads = {\n",
    "    50 : \"54:18\",\n",
    "    40 : \"49:18\",\n",
    "    20 : \"1:04:44\",\n",
    "    10 : \"1:16:31\",\n",
    "    5 : \"1:36:53\"\n",
    "}\n",
    "train_time_by_threads"
   ]
  },
  {
   "cell_type": "markdown",
   "metadata": {},
   "source": [
    "# Baseline + 1 Feature"
   ]
  },
  {
   "cell_type": "code",
   "execution_count": 2,
   "metadata": {},
   "outputs": [],
   "source": [
    "trained_models = [str(model_dir.name) for model_dir in paths.models_dir.glob(\"B_classifier*\") if model_dir.is_dir()]\n",
    "\n",
    "baseline_model_name = \"B_classifier_baseline\"\n",
    "\n",
    "models_baseline_plus_one = [n for n in trained_models if \"B_classifier_baseline_with_\" in n]\n",
    "additional_features = [n.replace(\"B_classifier_baseline_with_\",\"\") for n in models_baseline_plus_one]"
   ]
  },
  {
   "cell_type": "code",
   "execution_count": 3,
   "metadata": {},
   "outputs": [],
   "source": [
    "df_fi = pd.DataFrame({\"feature\":additional_features}).set_index(\"feature\")"
   ]
  },
  {
   "cell_type": "code",
   "execution_count": 4,
   "metadata": {},
   "outputs": [],
   "source": [
    "paths.update_B_classifier_name(baseline_model_name)\n",
    "with open(paths.B_classifier_eval_data_file, \"r\") as file:\n",
    "    eval_results = json.load(file)\n",
    "\n",
    "baseline_results = {}\n",
    "\n",
    "baseline_results[\"accuracy_test\"] = eval_results[\"accuracy_test\"]\n",
    "baseline_results[\"accuracy_train\"] = eval_results[\"accuracy_train\"]\n",
    "baseline_results[\"efficiency_Bd_test\"] = eval_results[\"confusion_matrix_test\"][0][0]\n",
    "baseline_results[\"efficiency_Bs_test\"] = eval_results[\"confusion_matrix_test\"][1][1]\n",
    "baseline_results[\"roc_auc_test\"] = eval_results[\"roc_auc_test\"]\n",
    "baseline_results[\"roc_auc_train\"] = eval_results[\"roc_auc_train\"]"
   ]
  },
  {
   "cell_type": "code",
   "execution_count": 5,
   "metadata": {},
   "outputs": [],
   "source": [
    "for feature, model_name in zip(additional_features, models_baseline_plus_one):\n",
    "    paths.update_B_classifier_name(model_name)\n",
    "    with open(paths.B_classifier_eval_data_file, \"r\") as file:\n",
    "        eval_results = json.load(file)\n",
    "        \n",
    "    df_fi.loc[feature, \"accuracy_test\"] = eval_results[\"accuracy_test\"]\n",
    "    df_fi.loc[feature, \"accuracy_train\"] = eval_results[\"accuracy_train\"]\n",
    "    df_fi.loc[feature, \"efficiency_Bd_test\"] = eval_results[\"confusion_matrix_test\"][0][0]\n",
    "    df_fi.loc[feature, \"efficiency_Bs_test\"] = eval_results[\"confusion_matrix_test\"][1][1]\n",
    "    df_fi.loc[feature, \"roc_auc_test\"] = eval_results[\"roc_auc_test\"]\n",
    "    df_fi.loc[feature, \"roc_auc_train\"] = eval_results[\"roc_auc_train\"]"
   ]
  },
  {
   "cell_type": "code",
   "execution_count": 6,
   "metadata": {},
   "outputs": [],
   "source": [
    "importance_metrics = []\n",
    "\n",
    "for metric in baseline_results.keys():\n",
    "    df_fi[f\"diff_{metric}\"] = df_fi[metric] - baseline_results[metric]\n",
    "    importance_metrics.append(f\"diff_{metric}\")\n",
    "    \n",
    "df_fi.sort_values(by=\"diff_accuracy_test\", ascending=False, inplace=True)"
   ]
  },
  {
   "cell_type": "code",
   "execution_count": 7,
   "metadata": {},
   "outputs": [],
   "source": [
    "paths.update_B_classifier_name(\"B_classifier_all\")\n",
    "df_fi_all = pd.read_csv(paths.B_classifier_feature_importance_data_file)\n",
    "\n",
    "importances_on_all = [\"perm_accuracy\",\"combined_mean\",\"combined_max\"]\n",
    "df_fi[importances_on_all] = df_fi_all.set_index(\"feature\").loc[additional_features,importances_on_all]\n",
    "\n",
    "importance_metrics = importance_metrics + importances_on_all"
   ]
  },
  {
   "cell_type": "code",
   "execution_count": 8,
   "metadata": {},
   "outputs": [],
   "source": [
    "# %%\n",
    "# Plot the feature importances horizontal\n",
    "fig, axs = plt.subplots(len(importance_metrics),1, \n",
    "                        figsize=(len(additional_features)/1.5, len(importance_metrics)*5), \n",
    "                        sharex=True)\n",
    "\n",
    "#fig.suptitle(f\"Feature Importance\")\n",
    "\n",
    "for i, (ax, metric) in enumerate(zip(axs, importance_metrics)):\n",
    "    ax.set_title(f\"feature importance metric: {metric}\")\n",
    "    if f\"{metric}_std\" in df_fi.columns:\n",
    "        err = df_fi[f\"{metric}_std\"]\n",
    "    else:\n",
    "        err = None\n",
    "    ax.bar(df_fi.index, df_fi[metric], yerr=err, color=f\"C{i}\", alpha=0.8)\n",
    "    ax.set_ylabel(metric)\n",
    "    ax.tick_params(axis=\"x\", labelbottom=True, labelrotation=60)\n",
    "\n",
    "plt.tight_layout()\n",
    "plt.savefig(paths.plots_dir/\"baseline_plus_one.pdf\")\n",
    "plt.close()"
   ]
  },
  {
   "cell_type": "code",
   "execution_count": null,
   "metadata": {},
   "outputs": [],
   "source": []
  }
 ],
 "metadata": {
  "interpreter": {
   "hash": "20b05ee88e26e7f23d90b869a85a4fb598ebc8861a40413c4d0961bc2f50b067"
  },
  "kernelspec": {
   "display_name": "Python 3.9.7 ('root_forge')",
   "language": "python",
   "name": "python3"
  },
  "language_info": {
   "codemirror_mode": {
    "name": "ipython",
    "version": 3
   },
   "file_extension": ".py",
   "mimetype": "text/x-python",
   "name": "python",
   "nbconvert_exporter": "python",
   "pygments_lexer": "ipython3",
   "version": "3.9.7"
  },
  "orig_nbformat": 4
 },
 "nbformat": 4,
 "nbformat_minor": 2
}
