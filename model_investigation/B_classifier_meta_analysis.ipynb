{
 "cells": [
  {
   "cell_type": "code",
   "execution_count": 3,
   "metadata": {},
   "outputs": [],
   "source": [
    "# %%\n",
    "# Imports\n",
    "import sys\n",
    "from pathlib import Path\n",
    "import pandas as pd\n",
    "import numpy as np\n",
    "import matplotlib as mpl\n",
    "import matplotlib.pyplot as plt\n",
    "from tqdm.auto import tqdm\n",
    "import json\n",
    "import shutil\n",
    "import torch\n",
    "from sklearn import metrics as skmetrics\n",
    "from argparse import ArgumentParser\n",
    "\n",
    "# Imports from this project\n",
    "sys.path.insert(0, \"..\")\n",
    "from utils import paths\n",
    "from utils.input_output import load_feature_keys, load_feature_properties, load_preprocessed_data\n",
    "from utils.histograms import find_good_binning, get_hist, calc_pull\n",
    "from utils.merge_pdfs import merge_pdfs\n",
    "from model_B_classifier import DeepSetModel"
   ]
  },
  {
   "cell_type": "markdown",
   "metadata": {},
   "source": [
    "# Evaluation Results from different models"
   ]
  },
  {
   "cell_type": "code",
   "execution_count": 6,
   "metadata": {},
   "outputs": [
    {
     "data": {
      "text/plain": [
       "['B_classifier_all',\n",
       " 'B_classifier_without_Tr_T_x',\n",
       " 'B_classifier_without_Tr_ProbSS',\n",
       " 'B_classifier_without_Tr_T_ACHI2DOCA',\n",
       " 'B_classifier_without_Tr_T_ADOCA',\n",
       " 'B_classifier_without_Tr_T_Charge']"
      ]
     },
     "execution_count": 6,
     "metadata": {},
     "output_type": "execute_result"
    }
   ],
   "source": [
    "with open(\"../features_B_classifier.json\", \"r\") as file:\n",
    "    feature_lists = json.load(file)\n",
    "    \n",
    "trained_model_names = [n.replace(\"features_\",\"\") for n in feature_lists.keys() if (paths.models_dir/n.replace(\"features_\",\"\")/paths.B_classifier_eval_file.name).is_file()]\n",
    "trained_model_names"
   ]
  },
  {
   "cell_type": "code",
   "execution_count": 15,
   "metadata": {},
   "outputs": [
    {
     "name": "stdout",
     "output_type": "stream",
     "text": [
      "                                     roc_auc_test  roc_auc_train  \\\n",
      "B_classifier_without_Tr_ProbSS             $0.931         $0.953   \n",
      "B_classifier_all                           $0.934         $0.954   \n",
      "B_classifier_without_Tr_T_x                $0.926         $0.946   \n",
      "B_classifier_without_Tr_T_ADOCA            $0.913         $0.934   \n",
      "B_classifier_without_Tr_T_ACHI2DOCA        $0.904         $0.930   \n",
      "B_classifier_without_Tr_T_Charge           $0.891         $0.917   \n",
      "\n",
      "                                     accuracy_test  accuracy_train  \\\n",
      "B_classifier_without_Tr_ProbSS              $0.857          $0.882   \n",
      "B_classifier_all                            $0.854          $0.881   \n",
      "B_classifier_without_Tr_T_x                 $0.846          $0.870   \n",
      "B_classifier_without_Tr_T_ADOCA             $0.831          $0.857   \n",
      "B_classifier_without_Tr_T_ACHI2DOCA         $0.829          $0.856   \n",
      "B_classifier_without_Tr_T_Charge            $0.796          $0.820   \n",
      "\n",
      "                                     efficiency_Bd_test  efficiency_Bs_test  \n",
      "B_classifier_without_Tr_ProbSS                   $0.796              $0.915  \n",
      "B_classifier_all                                 $0.844              $0.864  \n",
      "B_classifier_without_Tr_T_x                      $0.777              $0.912  \n",
      "B_classifier_without_Tr_T_ADOCA                  $0.803              $0.858  \n",
      "B_classifier_without_Tr_T_ACHI2DOCA              $0.748              $0.905  \n",
      "B_classifier_without_Tr_T_Charge                 $0.686              $0.900  \n"
     ]
    }
   ],
   "source": [
    "df_results = pd.DataFrame()\n",
    "\n",
    "for model_name in trained_model_names:\n",
    "    paths.update_B_classifier_name(model_name)\n",
    "    with open(paths.B_classifier_dir/\"eval_results.json\", \"r\") as file:\n",
    "        eval_results = json.load(file)\n",
    "        \n",
    "    for metric in eval_results.keys():\n",
    "        if metric != \"confusion_matrix_test\":\n",
    "            df_results.loc[model_name,metric] = eval_results[metric]\n",
    "            \n",
    "    if \"confusion_matrix_test\" in eval_results.keys():\n",
    "        df_results.loc[model_name,\"efficiency_Bd_test\"] = eval_results[\"confusion_matrix_test\"][0][0]\n",
    "        df_results.loc[model_name,\"efficiency_Bs_test\"] = eval_results[\"confusion_matrix_test\"][1][1]\n",
    "        \n",
    "with pd.option_context(\"display.float_format\", '${:,.3f}'.format):\n",
    "    print(df_results.sort_values(by=\"accuracy_test\", ascending=False))"
   ]
  },
  {
   "cell_type": "markdown",
   "metadata": {},
   "source": [
    "# Generare Feature Lists"
   ]
  },
  {
   "cell_type": "code",
   "execution_count": 16,
   "metadata": {},
   "outputs": [],
   "source": [
    "with open(\"../features_B_classifier.json\", \"r\") as file:\n",
    "    feature_lists = json.load(file)\n",
    "    \n",
    "assert \"features_B_classifier_baseline\" in feature_lists.keys()\n",
    "assert \"features_B_classifier_all\" in feature_lists.keys()\n",
    "\n",
    "baseline_features = feature_lists[\"features_B_classifier_baseline\"]\n",
    "all_features = feature_lists[\"features_B_classifier_all\"]"
   ]
  },
  {
   "cell_type": "code",
   "execution_count": 17,
   "metadata": {},
   "outputs": [],
   "source": [
    "# add lists with one feature added, each\n",
    "for feature in set(all_features) - set(baseline_features):\n",
    "    feature_lists[f\"features_B_classifier_baseline_with_{feature}\"] = baseline_features + [feature]"
   ]
  },
  {
   "cell_type": "code",
   "execution_count": 18,
   "metadata": {},
   "outputs": [],
   "source": [
    "with open(\"../features_B_classifier.json\", \"w\") as file:\n",
    "    json.dump(feature_lists, file, indent=2)"
   ]
  },
  {
   "cell_type": "code",
   "execution_count": null,
   "metadata": {},
   "outputs": [],
   "source": []
  }
 ],
 "metadata": {
  "interpreter": {
   "hash": "20b05ee88e26e7f23d90b869a85a4fb598ebc8861a40413c4d0961bc2f50b067"
  },
  "kernelspec": {
   "display_name": "Python 3.9.7 ('root_forge')",
   "language": "python",
   "name": "python3"
  },
  "language_info": {
   "codemirror_mode": {
    "name": "ipython",
    "version": 3
   },
   "file_extension": ".py",
   "mimetype": "text/x-python",
   "name": "python",
   "nbconvert_exporter": "python",
   "pygments_lexer": "ipython3",
   "version": "3.9.7"
  },
  "orig_nbformat": 4
 },
 "nbformat": 4,
 "nbformat_minor": 2
}
