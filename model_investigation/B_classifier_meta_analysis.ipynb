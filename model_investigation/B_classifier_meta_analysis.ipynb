{
 "cells": [
  {
   "cell_type": "code",
   "execution_count": null,
   "metadata": {},
   "outputs": [],
   "source": [
    "# %%\n",
    "# Imports\n",
    "import sys\n",
    "from pathlib import Path\n",
    "import pandas as pd\n",
    "import numpy as np\n",
    "import matplotlib as mpl\n",
    "import matplotlib.pyplot as plt\n",
    "from tqdm.auto import tqdm\n",
    "import json\n",
    "import shutil\n",
    "import torch\n",
    "from sklearn import metrics as skmetrics\n",
    "from argparse import ArgumentParser\n",
    "\n",
    "# Imports from this project\n",
    "sys.path.insert(0, \"..\")\n",
    "from utils import paths\n",
    "from utils.input_output import load_feature_keys, load_feature_properties, load_preprocessed_data\n",
    "from utils.histograms import find_good_binning, get_hist, calc_pull\n",
    "from utils.merge_pdfs import merge_pdfs\n",
    "from model_B_classifier import DeepSetModel"
   ]
  },
  {
   "cell_type": "markdown",
   "metadata": {},
   "source": [
    "# Evaluation Results from different models"
   ]
  },
  {
   "cell_type": "code",
   "execution_count": null,
   "metadata": {},
   "outputs": [],
   "source": [
    "with open(\"../features_B_classifier.json\", \"r\") as file:\n",
    "    feature_lists = json.load(file)\n",
    "    \n",
    "trained_model_names = [n.replace(\"features_\",\"\") for n in feature_lists.keys() if (paths.models_dir/n.replace(\"features_\",\"\")/paths.B_classifier_eval_plots_file.name).is_file()]\n",
    "trained_model_names"
   ]
  },
  {
   "cell_type": "code",
   "execution_count": null,
   "metadata": {},
   "outputs": [],
   "source": [
    "df_results = pd.DataFrame()\n",
    "\n",
    "for model_name in trained_model_names:\n",
    "    paths.update_B_classifier_name(model_name)\n",
    "    with open(paths.B_classifier_dir/\"eval_results.json\", \"r\") as file:\n",
    "        eval_results = json.load(file)\n",
    "        \n",
    "    for metric in eval_results.keys():\n",
    "        if metric != \"confusion_matrix_test\":\n",
    "            df_results.loc[model_name,metric] = eval_results[metric]\n",
    "            \n",
    "    if \"confusion_matrix_test\" in eval_results.keys():\n",
    "        df_results.loc[model_name,\"efficiency_Bd_test\"] = eval_results[\"confusion_matrix_test\"][0][0]\n",
    "        df_results.loc[model_name,\"efficiency_Bs_test\"] = eval_results[\"confusion_matrix_test\"][1][1]\n",
    "        \n",
    "with pd.option_context(\"display.float_format\", '${:,.3f}'.format):\n",
    "    print(df_results.sort_values(by=\"accuracy_test\", ascending=False))"
   ]
  },
  {
   "cell_type": "markdown",
   "metadata": {},
   "source": [
    "# Generare Feature Lists"
   ]
  },
  {
   "cell_type": "code",
   "execution_count": null,
   "metadata": {},
   "outputs": [],
   "source": [
    "with open(\"../features_B_classifier.json\", \"r\") as file:\n",
    "    feature_lists = json.load(file)\n",
    "    \n",
    "assert \"features_B_classifier_baseline\" in feature_lists.keys()\n",
    "assert \"features_B_classifier_all\" in feature_lists.keys()\n",
    "\n",
    "baseline_features = feature_lists[\"features_B_classifier_baseline\"]\n",
    "all_features = feature_lists[\"features_B_classifier_all\"]"
   ]
  },
  {
   "cell_type": "code",
   "execution_count": null,
   "metadata": {},
   "outputs": [],
   "source": [
    "# add lists with one feature added, each\n",
    "for feature in set(all_features) - set(baseline_features):\n",
    "    feature_lists[f\"features_B_classifier_baseline_with_{feature}\"] = baseline_features + [feature]"
   ]
  },
  {
   "cell_type": "code",
   "execution_count": null,
   "metadata": {},
   "outputs": [],
   "source": [
    "with open(\"../features_B_classifier.json\", \"w\") as file:\n",
    "    json.dump(feature_lists, file, indent=2)"
   ]
  },
  {
   "cell_type": "code",
   "execution_count": null,
   "metadata": {},
   "outputs": [],
   "source": [
    "feature_lists.keys()"
   ]
  },
  {
   "cell_type": "markdown",
   "metadata": {},
   "source": [
    "# Threads"
   ]
  },
  {
   "cell_type": "code",
   "execution_count": null,
   "metadata": {},
   "outputs": [],
   "source": [
    "train_time_by_threads = {\n",
    "    50 : \"54:18\",\n",
    "    40 : \"49:18\",\n",
    "    20 : \"1:04:44\",\n",
    "    10 : \"1:16:31\",\n",
    "    5 : \"1:36:53\"\n",
    "}\n",
    "train_time_by_threads"
   ]
  },
  {
   "cell_type": "markdown",
   "metadata": {},
   "source": [
    "# Baseline + 1 Feature"
   ]
  },
  {
   "cell_type": "code",
   "execution_count": null,
   "metadata": {},
   "outputs": [],
   "source": [
    "trained_models = [str(model_dir.name) for model_dir in paths.models_dir.glob(\"B_classifier*\") if model_dir.is_dir()]\n",
    "\n",
    "baseline_model_name = \"B_classifier_baseline\"\n",
    "\n",
    "models_baseline_plus_one = [n for n in trained_models if \"B_classifier_baseline_with_\" in n]\n",
    "additional_features = [n.replace(\"B_classifier_baseline_with_\",\"\") for n in models_baseline_plus_one]"
   ]
  },
  {
   "cell_type": "code",
   "execution_count": null,
   "metadata": {},
   "outputs": [],
   "source": [
    "df_fi = pd.DataFrame({\"feature\":additional_features}).set_index(\"feature\")"
   ]
  },
  {
   "cell_type": "code",
   "execution_count": null,
   "metadata": {},
   "outputs": [],
   "source": [
    "paths.update_B_classifier_name(baseline_model_name)\n",
    "with open(paths.B_classifier_eval_data_file, \"r\") as file:\n",
    "    eval_results = json.load(file)\n",
    "\n",
    "baseline_results = {}\n",
    "\n",
    "baseline_results[\"accuracy_test\"] = eval_results[\"accuracy_test\"]\n",
    "baseline_results[\"accuracy_train\"] = eval_results[\"accuracy_train\"]\n",
    "baseline_results[\"efficiency_Bd_test\"] = eval_results[\"confusion_matrix_test\"][0][0]\n",
    "baseline_results[\"efficiency_Bs_test\"] = eval_results[\"confusion_matrix_test\"][1][1]\n",
    "baseline_results[\"roc_auc_test\"] = eval_results[\"roc_auc_test\"]\n",
    "baseline_results[\"roc_auc_train\"] = eval_results[\"roc_auc_train\"]"
   ]
  },
  {
   "cell_type": "code",
   "execution_count": null,
   "metadata": {},
   "outputs": [],
   "source": [
    "for feature, model_name in zip(additional_features, models_baseline_plus_one):\n",
    "    paths.update_B_classifier_name(model_name)\n",
    "    with open(paths.B_classifier_eval_data_file, \"r\") as file:\n",
    "        eval_results = json.load(file)\n",
    "        \n",
    "    df_fi.loc[feature, \"accuracy_test\"] = eval_results[\"accuracy_test\"]\n",
    "    df_fi.loc[feature, \"accuracy_train\"] = eval_results[\"accuracy_train\"]\n",
    "    df_fi.loc[feature, \"efficiency_Bd_test\"] = eval_results[\"confusion_matrix_test\"][0][0]\n",
    "    df_fi.loc[feature, \"efficiency_Bs_test\"] = eval_results[\"confusion_matrix_test\"][1][1]\n",
    "    df_fi.loc[feature, \"roc_auc_test\"] = eval_results[\"roc_auc_test\"]\n",
    "    df_fi.loc[feature, \"roc_auc_train\"] = eval_results[\"roc_auc_train\"]"
   ]
  },
  {
   "cell_type": "code",
   "execution_count": null,
   "metadata": {},
   "outputs": [],
   "source": [
    "importance_metrics = []\n",
    "\n",
    "for metric in baseline_results.keys():\n",
    "    df_fi[f\"diff_{metric}\"] = df_fi[metric] - baseline_results[metric]\n",
    "    importance_metrics.append(f\"diff_{metric}\")\n",
    "    \n",
    "df_fi.sort_values(by=\"diff_accuracy_test\", ascending=False, inplace=True)"
   ]
  },
  {
   "cell_type": "code",
   "execution_count": null,
   "metadata": {},
   "outputs": [],
   "source": [
    "paths.update_B_classifier_name(\"B_classifier_all\")\n",
    "df_fi_all = pd.read_csv(paths.B_classifier_feature_importance_data_file)\n",
    "\n",
    "importances_on_all = [\"perm_accuracy\",\"combined_mean\",\"combined_max\"]\n",
    "df_fi[importances_on_all] = df_fi_all.set_index(\"feature\").loc[additional_features,importances_on_all]\n",
    "\n",
    "importance_metrics = importance_metrics + importances_on_all"
   ]
  },
  {
   "cell_type": "code",
   "execution_count": null,
   "metadata": {},
   "outputs": [],
   "source": [
    "# %%\n",
    "# Plot the feature importances horizontal\n",
    "fig, axs = plt.subplots(len(importance_metrics),1, \n",
    "                        figsize=(len(additional_features)/1.5, len(importance_metrics)*5), \n",
    "                        sharex=True)\n",
    "\n",
    "#fig.suptitle(f\"Feature Importance\")\n",
    "\n",
    "for i, (ax, metric) in enumerate(zip(axs, importance_metrics)):\n",
    "    ax.set_title(f\"feature importance metric: {metric}\")\n",
    "    if f\"{metric}_std\" in df_fi.columns:\n",
    "        err = df_fi[f\"{metric}_std\"]\n",
    "    else:\n",
    "        err = None\n",
    "    ax.bar(df_fi.index, df_fi[metric], yerr=err, color=f\"C{i}\", alpha=0.8)\n",
    "    ax.set_ylabel(metric)\n",
    "    ax.tick_params(axis=\"x\", labelbottom=True, labelrotation=60)\n",
    "\n",
    "plt.tight_layout()\n",
    "plt.savefig(paths.plots_dir/\"baseline_plus_one.pdf\")\n",
    "plt.close()"
   ]
  },
  {
   "cell_type": "code",
   "execution_count": null,
   "metadata": {},
   "outputs": [],
   "source": []
  },
  {
   "cell_type": "code",
   "execution_count": null,
   "metadata": {},
   "outputs": [],
   "source": []
  },
  {
   "cell_type": "code",
   "execution_count": null,
   "metadata": {},
   "outputs": [],
   "source": []
  }
 ],
 "metadata": {
  "interpreter": {
   "hash": "20b05ee88e26e7f23d90b869a85a4fb598ebc8861a40413c4d0961bc2f50b067"
  },
  "kernelspec": {
   "display_name": "Python 3.9.7 ('root_forge')",
   "language": "python",
   "name": "python3"
  },
  "language_info": {
   "codemirror_mode": {
    "name": "ipython",
    "version": 3
   },
   "file_extension": ".py",
   "mimetype": "text/x-python",
   "name": "python",
   "nbconvert_exporter": "python",
   "pygments_lexer": "ipython3",
   "version": "3.9.7"
  }
 },
 "nbformat": 4,
 "nbformat_minor": 2
}
